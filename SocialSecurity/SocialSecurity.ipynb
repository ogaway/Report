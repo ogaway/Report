{
 "cells": [
  {
   "cell_type": "markdown",
   "metadata": {},
   "source": [
    "#大問1"
   ]
  },
  {
   "cell_type": "code",
   "execution_count": 1,
   "metadata": {
    "collapsed": true
   },
   "outputs": [],
   "source": [
    "%matplotlib inline\n",
    "from sympy import *\n",
    "import numpy as np\n",
    "import matplotlib.pyplot as plt\n",
    "init_printing()"
   ]
  },
  {
   "cell_type": "code",
   "execution_count": 2,
   "metadata": {
    "collapsed": true
   },
   "outputs": [],
   "source": [
    "# 変数定義\n",
    "c, l, w = symbols('c l w')\n",
    "c1, c2, l1, l2, w1, w2, a, t = symbols('c1 c2 l1 l2 w1 w2 a t')"
   ]
  },
  {
   "cell_type": "code",
   "execution_count": 3,
   "metadata": {
    "collapsed": false
   },
   "outputs": [
    {
     "data": {
      "image/png": "[encoded data removed]",
      "text/latex": [
       "$$c - \\frac{l^{2}}{2}$$"
      ],
      "text/plain": [
       "     2\n",
       "    l \n",
       "c - ──\n",
       "    2 "
      ]
     },
     "execution_count": 3,
     "metadata": {},
     "output_type": "execute_result"
    }
   ],
   "source": [
    "# 効用関数をつくる\n",
    "Utility = c - l**2/2\n",
    "Utility"
   ]
  },
  {
   "cell_type": "code",
   "execution_count": 4,
   "metadata": {
    "collapsed": false
   },
   "outputs": [],
   "source": [
    "# 代入する\n",
    "Utility = Utility.subs({c:(1-t)*w*l + a})\n",
    "# 一階条件\n",
    "ans_l = solve(diff(Utility, l), l)"
   ]
  },
  {
   "cell_type": "code",
   "execution_count": 5,
   "metadata": {
    "collapsed": false
   },
   "outputs": [
    {
     "name": "stdout",
     "output_type": "stream",
     "text": [
      "[w*(-t + 1)]\n"
     ]
    }
   ],
   "source": [
    "# 最適労働量\n",
    "print ans_l"
   ]
  },
  {
   "cell_type": "code",
   "execution_count": 6,
   "metadata": {
    "collapsed": false
   },
   "outputs": [],
   "source": [
    "# 消費関数に代入\n",
    "consume = (1-t)*w*l + a\n",
    "ans_c = consume.subs({l:w(-t+1)})"
   ]
  },
  {
   "cell_type": "code",
   "execution_count": 7,
   "metadata": {
    "collapsed": false
   },
   "outputs": [
    {
     "name": "stdout",
     "output_type": "stream",
     "text": [
      "a + w*(-t + 1)*w(-t + 1)\n"
     ]
    }
   ],
   "source": [
    "# 最適消費量\n",
    "print ans_c"
   ]
  },
  {
   "cell_type": "code",
   "execution_count": 8,
   "metadata": {
    "collapsed": false
   },
   "outputs": [
    {
     "data": {
      "image/png": "[encoded data removed]",
      "text/latex": [
       "$$\\frac{t}{2} \\left(l_{1} w_{1} + l_{2} w_{2}\\right)$$"
      ],
      "text/plain": [
       "t⋅(l₁⋅w₁ + l₂⋅w₂)\n",
       "─────────────────\n",
       "        2        "
      ]
     },
     "execution_count": 8,
     "metadata": {},
     "output_type": "execute_result"
    }
   ],
   "source": [
    "# 政府制約\n",
    "A = (w1*l1 + w2*l2)*t/2\n",
    "A"
   ]
  },
  {
   "cell_type": "code",
   "execution_count": 9,
   "metadata": {
    "collapsed": false
   },
   "outputs": [],
   "source": [
    "ans_a = A.subs({l1:(-t+1), l2:2*(-t+1)})"
   ]
  },
  {
   "cell_type": "code",
   "execution_count": 10,
   "metadata": {
    "collapsed": false
   },
   "outputs": [],
   "source": [
    "ans_a = ans_a.subs({w1:1, w2:2})"
   ]
  },
  {
   "cell_type": "code",
   "execution_count": 11,
   "metadata": {
    "collapsed": false
   },
   "outputs": [
    {
     "name": "stdout",
     "output_type": "stream",
     "text": [
      "t*(-5*t + 5)/2\n"
     ]
    }
   ],
   "source": [
    "# 補助金額\n",
    "print ans_a"
   ]
  },
  {
   "cell_type": "code",
   "execution_count": 12,
   "metadata": {
    "collapsed": false
   },
   "outputs": [],
   "source": [
    "Utility = Utility.subs({c:a + w*(-t + 1)*w(-t + 1), l:w*(-t + 1)})"
   ]
  },
  {
   "cell_type": "code",
   "execution_count": 13,
   "metadata": {
    "collapsed": false
   },
   "outputs": [
    {
     "data": {
      "image/png": "[encoded data removed]",
      "text/latex": [
       "$$a + \\frac{w^{2}}{2} \\left(- t + 1\\right)^{2}$$"
      ],
      "text/plain": [
       "     2         2\n",
       "    w ⋅(-t + 1) \n",
       "a + ────────────\n",
       "         2      "
      ]
     },
     "execution_count": 13,
     "metadata": {},
     "output_type": "execute_result"
    }
   ],
   "source": [
    "Utility"
   ]
  },
  {
   "cell_type": "code",
   "execution_count": 14,
   "metadata": {
    "collapsed": true
   },
   "outputs": [],
   "source": [
    "Utility = Utility.subs({a:t*(-5*t + 5)/2})"
   ]
  },
  {
   "cell_type": "code",
   "execution_count": 15,
   "metadata": {
    "collapsed": false
   },
   "outputs": [
    {
     "data": {
      "image/png": "[encoded data removed]",
      "text/latex": [
       "$$\\frac{t}{2} \\left(- 5 t + 5\\right) + \\frac{w^{2}}{2} \\left(- t + 1\\right)^{2}$$"
      ],
      "text/plain": [
       "                2         2\n",
       "t⋅(-5⋅t + 5)   w ⋅(-t + 1) \n",
       "──────────── + ────────────\n",
       "     2              2      "
      ]
     },
     "execution_count": 15,
     "metadata": {},
     "output_type": "execute_result"
    }
   ],
   "source": [
    "Utility"
   ]
  },
  {
   "cell_type": "code",
   "execution_count": 16,
   "metadata": {
    "collapsed": true
   },
   "outputs": [],
   "source": [
    "U1 = Utility.subs({w:1})\n",
    "U2 = Utility.subs({w:2})"
   ]
  },
  {
   "cell_type": "code",
   "execution_count": 17,
   "metadata": {
    "collapsed": false
   },
   "outputs": [
    {
     "name": "stdout",
     "output_type": "stream",
     "text": [
      "t*(-5*t + 5)/2 + (-t + 1)**2/2\n"
     ]
    }
   ],
   "source": [
    "print U1"
   ]
  },
  {
   "cell_type": "code",
   "execution_count": 18,
   "metadata": {
    "collapsed": false
   },
   "outputs": [
    {
     "name": "stdout",
     "output_type": "stream",
     "text": [
      "t*(-5*t + 5)/2 + 2*(-t + 1)**2\n"
     ]
    }
   ],
   "source": [
    "print U2"
   ]
  },
  {
   "cell_type": "code",
   "execution_count": 19,
   "metadata": {
    "collapsed": false
   },
   "outputs": [
    {
     "data": {
      "image/png": "[encoded data removed]",
      "text/plain": [
       "<matplotlib.figure.Figure at 0x107875f10>"
      ]
     },
     "metadata": {},
     "output_type": "display_data"
    }
   ],
   "source": [
    "_x = np.arange(0.0,1.0,0.001)\n",
    "_y = np.arange(0.0,2.5,0.1)\n",
    "def U1_func(t):\n",
    "    return t*(-5*t + 5)/2 + (-t + 1)**2/2\n",
    "def U2_func(t):\n",
    "    return t*(-5*t + 5)/2 + 2*(-t + 1)**2\n",
    "plt.figure(figsize=(6, 6))\n",
    "plt.xlim(0, 2.5)\n",
    "plt.ylim(0, 2.5)\n",
    "plt.xlabel(\"U1\")\n",
    "plt.ylabel(\"U2\")\n",
    "plt.plot(U1_func(_x), U2_func(_x), label=\"sample\")\n",
    "plt.plot(_y, _y, ':')\n",
    "plt.title(\"Utility Possibility Frontier\")\n",
    "plt.savefig('UtilityPossibilityFrontier.png', dpi=150)\n",
    "plt.show()"
   ]
  },
  {
   "cell_type": "code",
   "execution_count": 20,
   "metadata": {
    "collapsed": false
   },
   "outputs": [
    {
     "data": {
      "text/plain": [
       "<matplotlib.figure.Figure at 0x104405a50>"
      ]
     },
     "metadata": {},
     "output_type": "display_data"
    }
   ],
   "source": [
    "plt.clf()"
   ]
  },
  {
   "cell_type": "code",
   "execution_count": 21,
   "metadata": {
    "collapsed": false
   },
   "outputs": [
    {
     "data": {
      "image/png": "[encoded data removed]",
      "text/plain": [
       "<matplotlib.figure.Figure at 0x107875550>"
      ]
     },
     "metadata": {},
     "output_type": "display_data"
    }
   ],
   "source": [
    "_x = np.arange(0.0,1.0,0.001)\n",
    "def a_func(t):\n",
    "    return t*(-5*t + 5)/2\n",
    "plt.figure(figsize=(6, 6))\n",
    "plt.xlim(0, 1)\n",
    "plt.ylim(0, 1)\n",
    "plt.xlabel(\"Tax Rate\")\n",
    "plt.ylabel(\"Government Revenue\")\n",
    "plt.plot(_x, a_func(_x), label=\"sample\")\n",
    "plt.title(\"Laffer Curve\")\n",
    "plt.savefig('LafferCurve.png', dpi=150)\n",
    "plt.show()"
   ]
  },
  {
   "cell_type": "code",
   "execution_count": 22,
   "metadata": {
    "collapsed": false
   },
   "outputs": [
    {
     "data": {
      "image/png": "[encoded data removed]",
      "text/latex": [
       "$$- \\frac{5 t^{2}}{2} + \\frac{5}{2}$$"
      ],
      "text/plain": [
       "     2    \n",
       "  5⋅t    5\n",
       "- ──── + ─\n",
       "   2     2"
      ]
     },
     "execution_count": 22,
     "metadata": {},
     "output_type": "execute_result"
    }
   ],
   "source": [
    "Bentham = U1 + U2\n",
    "expand(Bentham)"
   ]
  },
  {
   "cell_type": "code",
   "execution_count": 23,
   "metadata": {
    "collapsed": false
   },
   "outputs": [
    {
     "data": {
      "image/png": "[encoded data removed]",
      "text/latex": [
       "$$- 5 t$$"
      ],
      "text/plain": [
       "-5⋅t"
      ]
     },
     "execution_count": 23,
     "metadata": {},
     "output_type": "execute_result"
    }
   ],
   "source": [
    "diff(Bentham, t)"
   ]
  },
  {
   "cell_type": "code",
   "execution_count": 24,
   "metadata": {
    "collapsed": false
   },
   "outputs": [
    {
     "data": {
      "image/png": "[encoded data removed]",
      "text/latex": [
       "$$\\left [ 0\\right ]$$"
      ],
      "text/plain": [
       "[0]"
      ]
     },
     "execution_count": 24,
     "metadata": {},
     "output_type": "execute_result"
    }
   ],
   "source": [
    "solve(diff(Bentham, t), t)"
   ]
  },
  {
   "cell_type": "code",
   "execution_count": 25,
   "metadata": {
    "collapsed": false
   },
   "outputs": [
    {
     "data": {
      "image/png": "[encoded data removed]",
      "text/latex": [
       "$$- 2 t^{2} + \\frac{3 t}{2} + \\frac{1}{2}$$"
      ],
      "text/plain": [
       "     2   3⋅t   1\n",
       "- 2⋅t  + ─── + ─\n",
       "          2    2"
      ]
     },
     "execution_count": 25,
     "metadata": {},
     "output_type": "execute_result"
    }
   ],
   "source": [
    "Rawls = U1\n",
    "expand(Rawls)"
   ]
  },
  {
   "cell_type": "code",
   "execution_count": 26,
   "metadata": {
    "collapsed": false
   },
   "outputs": [
    {
     "data": {
      "image/png": "[encoded data removed]",
      "text/latex": [
       "$$- 4 t + \\frac{3}{2}$$"
      ],
      "text/plain": [
       "-4⋅t + 3/2"
      ]
     },
     "execution_count": 26,
     "metadata": {},
     "output_type": "execute_result"
    }
   ],
   "source": [
    "diff(Rawls, t)"
   ]
  },
  {
   "cell_type": "code",
   "execution_count": 27,
   "metadata": {
    "collapsed": false
   },
   "outputs": [
    {
     "data": {
      "image/png": "[encoded data removed]",
      "text/latex": [
       "$$\\left [ \\frac{3}{8}\\right ]$$"
      ],
      "text/plain": [
       "[3/8]"
      ]
     },
     "execution_count": 27,
     "metadata": {},
     "output_type": "execute_result"
    }
   ],
   "source": [
    "solve(diff(Rawls, t), t)"
   ]
  },
  {
   "cell_type": "markdown",
   "metadata": {},
   "source": [
    "#大問2"
   ]
  },
  {
   "cell_type": "code",
   "execution_count": 28,
   "metadata": {
    "collapsed": true
   },
   "outputs": [],
   "source": [
    "incomes = [50, 50, 200, 300, 400]"
   ]
  },
  {
   "cell_type": "code",
   "execution_count": 29,
   "metadata": {
    "collapsed": false
   },
   "outputs": [
    {
     "name": "stdout",
     "output_type": "stream",
     "text": [
      "ジニ係数は0.38\n"
     ]
    }
   ],
   "source": [
    "g = 0\n",
    "for i in incomes:\n",
    "    for k in incomes:\n",
    "        g += abs(i-k)\n",
    "g /= float((2*len(incomes)*sum(incomes)))\n",
    "print \"ジニ係数は%s\" % g"
   ]
  },
  {
   "cell_type": "code",
   "execution_count": 30,
   "metadata": {
    "collapsed": false
   },
   "outputs": [
    {
     "name": "stdout",
     "output_type": "stream",
     "text": [
      "貧困ギャップ率は0.2\n"
     ]
    }
   ],
   "source": [
    "fgt = 0\n",
    "for i in incomes:\n",
    "    if i <= 100:\n",
    "        fgt += (100-i)/100.0 * 0.2\n",
    "print \"貧困ギャップ率は%s\" % fgt"
   ]
  },
  {
   "cell_type": "code",
   "execution_count": 31,
   "metadata": {
    "collapsed": false
   },
   "outputs": [
    {
     "name": "stdout",
     "output_type": "stream",
     "text": [
      "格差回避度0.0のときのアトキンソン指数は、\n",
      "0.0\n",
      "格差回避度2.0のときのアトキンソン指数は、\n",
      "0.508196721311\n"
     ]
    }
   ],
   "source": [
    "for shiguma in [0.0, 2.0]:\n",
    "    ye = 0\n",
    "    y = 0\n",
    "    for i in incomes:\n",
    "        y += i**(1- shiguma)\n",
    "    ye = (y/len(incomes))**(1-shiguma)\n",
    "    print \"格差回避度%sのときのアトキンソン指数は、\" % shiguma\n",
    "    print 1-(ye/200)"
   ]
  },
  {
   "cell_type": "code",
   "execution_count": 32,
   "metadata": {
    "collapsed": false
   },
   "outputs": [
    {
     "name": "stdout",
     "output_type": "stream",
     "text": [
      "格差回避度1.0のときのアトキンソン指数は、\n",
      "0.284515459447\n"
     ]
    }
   ],
   "source": [
    "import math\n",
    "for shiguma in [1.0]:\n",
    "    ye = 0\n",
    "    y = 0\n",
    "    for i in incomes:\n",
    "        y += math.log(i)\n",
    "    ye = math.exp(y/len(incomes))\n",
    "    print \"格差回避度%sのときのアトキンソン指数は、\" % shiguma\n",
    "    print 1-(ye/200)"
   ]
  }
 ],
 "metadata": {
  "kernelspec": {
   "display_name": "Python 2",
   "language": "python",
   "name": "python2"
  },
  "language_info": {
   "codemirror_mode": {
    "name": "ipython",
    "version": 2
   },
   "file_extension": ".py",
   "mimetype": "text/x-python",
   "name": "python",
   "nbconvert_exporter": "python",
   "pygments_lexer": "ipython2",
   "version": "2.7.9"
  }
 },
 "nbformat": 4,
 "nbformat_minor": 0
}
